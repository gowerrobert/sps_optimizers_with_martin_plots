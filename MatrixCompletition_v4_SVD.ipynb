{
 "cells": [
  {
   "cell_type": "code",
   "execution_count": 1,
   "metadata": {},
   "outputs": [],
   "source": [
    "import numpy as np\n",
    "import matplotlib.pyplot as plt\n",
    "from fqs import *\n",
    "import copy\n",
    "import os\n",
    "import pickle"
   ]
  },
  {
   "cell_type": "code",
   "execution_count": 2,
   "metadata": {},
   "outputs": [
    {
     "data": {
      "text/plain": [
       "array([1.22070312e-04, 6.10351562e-05, 3.05175781e-05, 1.52587891e-05])"
      ]
     },
     "execution_count": 2,
     "metadata": {},
     "output_type": "execute_result"
    }
   ],
   "source": [
    "2**np.linspace(-30,-1,31)\n",
    "\n",
    "\n",
    "np.log2(2.158e-05)\n",
    "2**np.linspace(-13,-16,4)\n"
   ]
  },
  {
   "cell_type": "code",
   "execution_count": 11,
   "metadata": {},
   "outputs": [
    {
     "name": "stdout",
     "output_type": "stream",
     "text": [
      "0 1.52587890625e-05\n",
      "0 7.62939453125e-06\n",
      "0 3.814697265625e-06\n",
      "1 1.52587890625e-05\n",
      "1 7.62939453125e-06\n",
      "1 3.814697265625e-06\n",
      "2 1.52587890625e-05\n",
      "2 7.62939453125e-06\n",
      "2 3.814697265625e-06\n",
      "3 1.52587890625e-05\n",
      "3 7.62939453125e-06\n",
      "3 3.814697265625e-06\n",
      "4 1.52587890625e-05\n",
      "4 7.62939453125e-06\n",
      "4 3.814697265625e-06\n"
     ]
    }
   ],
   "source": [
    "m = 100\n",
    "n = 50\n",
    "k = 2\n",
    "p = 0.2; etas = [2**-16,2**-17,2**-18]\n",
    "p = 0.1; etas = [2**-18,2**-19,2**-20]\n",
    "# p = 0.05; etas = [2**-19]\n",
    "p = 0.3; etas = [2**-16,2**-17,2**-18]\n",
    "# for SEED in range(10):\n",
    "for SEED in range(5):\n",
    "\n",
    "    np.random.seed(SEED)\n",
    "    Us = np.random.randn(m,k)\n",
    "    VTs = np.random.randn(k,n)\n",
    "\n",
    "    A = Us @ VTs\n",
    "    np.random.seed(SEED+1)\n",
    "    OmegaOrig = []\n",
    "    for i in range(n):\n",
    "        for j in range(m):\n",
    "            if np.random.rand(1)<p:\n",
    "                OmegaOrig.append([j,i])\n",
    "    np.random.shuffle(OmegaOrig)\n",
    "    len(OmegaOrig), m*n\n",
    "\n",
    "\n",
    "    prefix = \"./logs/matrix_completition_%d_%d_%d_%f_SEED_%d_\"%(m,n,k,p, SEED)\n",
    "\n",
    "\n",
    "    np.random.seed(SEED)\n",
    "    Omega = copy.deepcopy(OmegaOrig)\n",
    "\n",
    "\n",
    "    M = A*0\n",
    "    for (i,j) in Omega:\n",
    "        M[i,j] = A[i,j]\n",
    "\n",
    "    Minit = n*m/(len(Omega)+0.0)*M    \n",
    "    u, s, vh = np.linalg.svd(Minit,full_matrices=False)\n",
    "\n",
    "\n",
    "    np.allclose(Minit, np.dot(u * s, vh))\n",
    "\n",
    "    s = s[:k]\n",
    "\n",
    "    u = u[:,:k] \n",
    "\n",
    "    vh = vh[:k,:] \n",
    "\n",
    "    u = u * np.sqrt(s)\n",
    "    vh = vh*np.sqrt(s).reshape([-1,1])\n",
    "\n",
    "    np.linalg.norm(np.dot(u , vh) - Minit)\n",
    "\n",
    "    Uinit = u\n",
    "    VTinit = vh\n",
    "\n",
    "\n",
    "# \n",
    "#     for eta in 2**np.linspace(-30,-1,31):\n",
    "#     for eta in 2**np.linspace(-13,-18,6): \n",
    "    for eta in etas:\n",
    "        print(SEED, eta)\n",
    "\n",
    "\n",
    "        logfile = \"%s_SVDApproach_eta_%2.5e_.pkl\"%(prefix,eta)\n",
    "\n",
    "        if os.path.exists(logfile):\n",
    "            continue\n",
    "\n",
    "\n",
    "        fval = []\n",
    "        U = copy.deepcopy(Uinit)\n",
    "        V = copy.deepcopy(VTinit).T\n",
    "\n",
    "        np.random.seed(SEED)\n",
    "\n",
    "        for ep in range(200):\n",
    "\n",
    "\n",
    "            Mp = U@V.T\n",
    "            fval.append( np.linalg.norm(Mp - A)  )\n",
    "\n",
    "            if fval[-1] > 1e+10:\n",
    "                break\n",
    "\n",
    "            for it in range(1000):\n",
    "\n",
    "                Ru, Du, Rut = np.linalg.svd(U.T@U)\n",
    "                Rv, Dv, Rvt = np.linalg.svd(V.T@V)\n",
    "\n",
    "                Qu, D, Qvt = np.linalg.svd( np.diag(Du**0.5) @ Ru.T @ Rv @ np.diag(Du**0.5).T   )\n",
    "\n",
    "\n",
    "                j = np.random.randint(m)\n",
    "                i = np.random.randint(n)\n",
    "\n",
    "                Mji = A[j,i]\n",
    "\n",
    "                dU =  - 2*eta*n*m* (U[j,:].dot(V[i,:]) - Mji)* (V@Rv@np.diag(Dv**-0.5)@Qvt.T@Qu.T@np.diag(Du**0.5)@Ru.T)[i,:]\n",
    "                dV =  - 2*eta*n*m* (U[j,:].dot(V[i,:]) - Mji)* (U@Ru@np.diag(Du**-0.5)@Qu@Qvt@np.diag(Dv**0.5)@Rv.T)[j,:]\n",
    "\n",
    "\n",
    "                U[j,:] += dU\n",
    "                V[i,:] += dV\n",
    "        Mp = U@V.T\n",
    "        fval.append(np.linalg.norm(Mp - A))\n",
    "\n",
    "        pickle.dump([fval,U,V] ,  open(logfile,\"wb\"))\n",
    "\n",
    "        \n"
   ]
  },
  {
   "cell_type": "code",
   "execution_count": 29,
   "metadata": {},
   "outputs": [
    {
     "data": {
      "text/plain": [
       "array([-25., -24., -23., -22., -21., -20., -19., -18., -17.])"
      ]
     },
     "execution_count": 29,
     "metadata": {},
     "output_type": "execute_result"
    }
   ],
   "source": [
    "np.linspace(-25,-17,9)"
   ]
  },
  {
   "cell_type": "code",
   "execution_count": 139,
   "metadata": {},
   "outputs": [],
   "source": []
  },
  {
   "cell_type": "code",
   "execution_count": null,
   "metadata": {},
   "outputs": [],
   "source": []
  },
  {
   "cell_type": "code",
   "execution_count": 18,
   "metadata": {},
   "outputs": [],
   "source": []
  },
  {
   "cell_type": "code",
   "execution_count": 16,
   "metadata": {},
   "outputs": [
    {
     "name": "stdout",
     "output_type": "stream",
     "text": [
      "./logs/matrix_completition_100_50_2_0.200000_SEED_0__SVDApproach_eta_9.31323e-10\n"
     ]
    },
    {
     "ename": "NameError",
     "evalue": "name 'asfas' is not defined",
     "output_type": "error",
     "traceback": [
      "\u001b[0;31m---------------------------------------------------------------------------\u001b[0m",
      "\u001b[0;31mNameError\u001b[0m                                 Traceback (most recent call last)",
      "\u001b[0;32m<ipython-input-16-8ac15c4bdb14>\u001b[0m in \u001b[0;36m<module>\u001b[0;34m\u001b[0m\n\u001b[1;32m      5\u001b[0m \u001b[0;34m\u001b[0m\u001b[0m\n\u001b[1;32m      6\u001b[0m     \u001b[0mprint\u001b[0m\u001b[0;34m(\u001b[0m\u001b[0mlogfile\u001b[0m\u001b[0;34m)\u001b[0m\u001b[0;34m\u001b[0m\u001b[0;34m\u001b[0m\u001b[0m\n\u001b[0;32m----> 7\u001b[0;31m     \u001b[0masfas\u001b[0m\u001b[0;34m\u001b[0m\u001b[0;34m\u001b[0m\u001b[0m\n\u001b[0m\u001b[1;32m      8\u001b[0m \u001b[0;34m\u001b[0m\u001b[0m\n\u001b[1;32m      9\u001b[0m     \u001b[0mfval\u001b[0m \u001b[0;34m=\u001b[0m \u001b[0;34m[\u001b[0m\u001b[0;34m]\u001b[0m\u001b[0;34m\u001b[0m\u001b[0;34m\u001b[0m\u001b[0m\n",
      "\u001b[0;31mNameError\u001b[0m: name 'asfas' is not defined"
     ]
    }
   ],
   "source": []
  },
  {
   "cell_type": "code",
   "execution_count": 75,
   "metadata": {},
   "outputs": [],
   "source": [
    "adfsafsafasf"
   ]
  },
  {
   "cell_type": "code",
   "execution_count": null,
   "metadata": {},
   "outputs": [],
   "source": []
  },
  {
   "cell_type": "code",
   "execution_count": 156,
   "metadata": {},
   "outputs": [
    {
     "data": {
      "image/png": "[encoded data removed]",
      "text/plain": [
       "<Figure size 432x288 with 1 Axes>"
      ]
     },
     "metadata": {
      "needs_background": "light"
     },
     "output_type": "display_data"
    }
   ],
   "source": [
    "fval = []\n",
    "U = copy.deepcopy(Uinit)\n",
    "VT = copy.deepcopy(VTinit) \n",
    "np.random.seed(1)\n",
    "# U = Us +np.random.randn(m,k)*0.5\n",
    "# VT  = VTs+ np.random.randn(k,n)*0.5 \n",
    "\n",
    "np.random.seed(0)\n",
    "\n",
    "rs = [[] for j in range(m)]\n",
    "cs = [[] for i in range(n)]\n",
    "\n",
    "for j, i in OmegaOrig:\n",
    "    rs[j].append(i)\n",
    "    cs[i].append(j)\n",
    "fvalLSA=[]\n",
    "np.random.seed(1)\n",
    "# U = Us +np.random.randn(m,k)*0.9\n",
    "# VT  = VTs+ np.random.randn(k,n)*0.9\n",
    "\n",
    "\n",
    "Mp = U@VT  \n",
    "fval.append(np.linalg.norm(Mp - A))\n",
    " \n",
    "\n",
    " \n",
    "for ep in range(500):\n",
    "\n",
    "    \n",
    "    for it in range(1000):\n",
    "\n",
    "        j = np.random.randint(m)\n",
    "        i = np.random.randint(n)        \n",
    "\n",
    "        u = U[j,:]\n",
    "        v = VT[:,i]\n",
    "        uv = u.dot(v)\n",
    "        a = A[j,i]\n",
    "\n",
    "        r = a - uv\n",
    "         \n",
    "        p = [-r-uv, 0, 3*uv+2*r, -u.dot(u)-v.dot(v), -r]\n",
    "        \n",
    "        roots = quartic_roots(p)\n",
    "        solidx =  np.argmin(np.abs(np.imag(roots)))\n",
    "        lmbd = np.real(roots[0][solidx])\n",
    "\n",
    "        rootssubsetion = roots[np.abs(np.imag(roots)) < 1e-8]\n",
    "        solidx = np.argmin(np.abs(rootssubsetion))\n",
    "        lmbd = np.real(rootssubsetion[solidx])\n",
    "         \n",
    "        du = lmbd/(1-lmbd**2) * (lmbd*u - v)\n",
    "        dv = lmbd/(1-lmbd**2) * (lmbd*v - u)\n",
    "        \n",
    "        U[j,:] +=    du\n",
    "        VT[:,i]+=    dv\n",
    "    Mp = U@VT\n",
    "    fval.append(np.linalg.norm(Mp - A))\n",
    "        \n",
    "        \n",
    "Mp = U@VT\n",
    "fval.append(np.linalg.norm(Mp - A))\n",
    "    \n",
    "plt.semilogy(fval,label=\"SPS\")\n",
    "plt.semilogy(fvalOAMC,label=\"Online MC\")\n",
    "plt.legend()\n",
    "plt.grid(True)"
   ]
  },
  {
   "cell_type": "code",
   "execution_count": 157,
   "metadata": {},
   "outputs": [
    {
     "data": {
      "text/plain": [
       "([80.98257053605623,\n",
       "  41.17216427052417,\n",
       "  22.940531990682633,\n",
       "  9.672888089388064,\n",
       "  3.64677338647809],\n",
       " [80.98257053605623,\n",
       "  43.9740250171089,\n",
       "  21.202707827276008,\n",
       "  8.940143408719749,\n",
       "  3.7016130640772884])"
      ]
     },
     "execution_count": 157,
     "metadata": {},
     "output_type": "execute_result"
    }
   ],
   "source": [
    "fval[0:5],fvalOAMC[0:5]"
   ]
  },
  {
   "cell_type": "code",
   "execution_count": 155,
   "metadata": {},
   "outputs": [
    {
     "data": {
      "image/png": "[encoded data removed]",
      "text/plain": [
       "<Figure size 432x288 with 1 Axes>"
      ]
     },
     "metadata": {
      "needs_background": "light"
     },
     "output_type": "display_data"
    }
   ],
   "source": [
    "plt.semilogy(fval,label=\"SPS\")\n",
    "plt.semilogy(fvalOAMC,label=\"Online MC\")\n",
    "plt.legend()\n",
    "plt.grid(True)"
   ]
  },
  {
   "cell_type": "code",
   "execution_count": null,
   "metadata": {},
   "outputs": [],
   "source": []
  },
  {
   "cell_type": "code",
   "execution_count": null,
   "metadata": {},
   "outputs": [],
   "source": []
  },
  {
   "cell_type": "code",
   "execution_count": null,
   "metadata": {},
   "outputs": [],
   "source": []
  },
  {
   "cell_type": "code",
   "execution_count": null,
   "metadata": {},
   "outputs": [],
   "source": []
  },
  {
   "cell_type": "code",
   "execution_count": 59,
   "metadata": {},
   "outputs": [
    {
     "data": {
      "text/plain": [
       "Text(0, 0.5, 'MSE')"
      ]
     },
     "execution_count": 59,
     "metadata": {},
     "output_type": "execute_result"
    },
    {
     "data": {
      "image/png": "[encoded data removed]",
      "text/plain": [
       "<Figure size 432x288 with 1 Axes>"
      ]
     },
     "metadata": {
      "needs_background": "light"
     },
     "output_type": "display_data"
    }
   ],
   "source": [
    "plt.semilogy(fval)\n",
    "plt.xlabel(\"iterations\")\n",
    "plt.ylabel(\"MSE\")\n"
   ]
  },
  {
   "cell_type": "markdown",
   "metadata": {},
   "source": [
    "# ALS"
   ]
  },
  {
   "cell_type": "code",
   "execution_count": 13,
   "metadata": {},
   "outputs": [],
   "source": [
    "\n",
    "\n",
    "# U =  np.random.randn(m,k) *0.01\n",
    "# VT  =   np.random.randn(k,n)*0.01 "
   ]
  },
  {
   "cell_type": "code",
   "execution_count": 17,
   "metadata": {},
   "outputs": [],
   "source": []
  },
  {
   "cell_type": "code",
   "execution_count": 42,
   "metadata": {},
   "outputs": [],
   "source": [
    "rs = [[] for j in range(m)]\n",
    "cs = [[] for i in range(n)]\n",
    "\n",
    "for j, i in OmegaOrig:\n",
    "    rs[j].append(i)\n",
    "    cs[i].append(j)\n",
    "fvalLSA=[]\n",
    "np.random.seed(1)\n",
    "U = Us +np.random.randn(m,k)*0.9\n",
    "VT  = VTs+ np.random.randn(k,n)*0.9\n",
    "\n",
    "\n",
    "R = U@VT - A\n",
    "fvalLSA.append(np.mean([  R[j,i]**2 for j,i in Omega ]))\n",
    "\n",
    "for ep in range(100):\n",
    "    R = U@VT - A\n",
    " \n",
    "    for j in range(m):\n",
    "#         np.random.shuffle(rs[j])\n",
    "        if len(rs[j])>0:\n",
    "            u = np.linalg.pinv(VT[:,rs[j] ].T) @ R[j,rs[j] ]\n",
    "            U[j,:] -= u\n",
    "        \n",
    "    R = U@VT - A         \n",
    "    for i in range(n):\n",
    "        if len(cs[i])>0:\n",
    "            v = np.linalg.pinv(U[ cs[i], : ]) @ R[ cs[i],i ]\n",
    "            VT[:,i] -= v\n",
    "\n",
    "            \n",
    "    R = U@VT - A\n",
    "    fvalLSA.append(np.mean([  R[j,i]**2 for j,i in Omega ]))\n",
    "    "
   ]
  },
  {
   "cell_type": "markdown",
   "metadata": {},
   "source": [
    "# ALS - online"
   ]
  },
  {
   "cell_type": "code",
   "execution_count": 87,
   "metadata": {},
   "outputs": [],
   "source": [
    "rs = [[] for j in range(m)]\n",
    "cs = [[] for i in range(n)]\n",
    "\n",
    "eta = .9\n",
    "for j, i in OmegaOrig:\n",
    "    rs[j].append(i)\n",
    "    cs[i].append(j)\n",
    "fvalLSAOnline=[]\n",
    "np.random.seed(1)\n",
    "U = Us +np.random.randn(m,k)*0.9\n",
    "VT  = VTs+ np.random.randn(k,n)*0.9\n",
    "\n",
    "\n",
    "R = U@VT - A\n",
    "fvalLSAOnline.append(np.mean([  R[j,i]**2 for j,i in Omega ]))\n",
    "\n",
    "for ep in range(100):\n",
    "    np.random.shuffle(Omega)\n",
    "    for j,i in Omega:\n",
    "        R = U@VT - A\n",
    "        if np.random.rand(1)<0.5:\n",
    "            c = i\n",
    "            u = np.linalg.pinv(VT[:,c:c+1 ].T) @ R[j,c:c+1 ]\n",
    "            U[j,:] -= eta*u\n",
    "        else:\n",
    "            r=j\n",
    "            v = np.linalg.pinv(U[ r:r+1, : ]) @ R[ r:r+1,i ]\n",
    "            VT[:,i] -= eta*v\n",
    "\n",
    "            \n",
    "    R = U@VT - A\n",
    "    fvalLSAOnline.append(np.mean([  R[j,i]**2 for j,i in Omega ]))\n",
    "    "
   ]
  },
  {
   "cell_type": "code",
   "execution_count": 88,
   "metadata": {},
   "outputs": [
    {
     "data": {
      "text/plain": [
       "<matplotlib.legend.Legend at 0x7fa224474970>"
      ]
     },
     "execution_count": 88,
     "metadata": {},
     "output_type": "execute_result"
    },
    {
     "data": {
      "image/png": "[encoded data removed]",
      "text/plain": [
       "<Figure size 432x288 with 1 Axes>"
      ]
     },
     "metadata": {
      "needs_background": "light"
     },
     "output_type": "display_data"
    }
   ],
   "source": [
    "plt.semilogy(fval,label=\"SPS\")\n",
    "plt.semilogy(fvalLSA,label=\"ALS - batched\")\n",
    "plt.semilogy(fvalLSAOnline,label=\"ALS - online\")\n",
    "plt.legend()\n"
   ]
  },
  {
   "cell_type": "code",
   "execution_count": null,
   "metadata": {},
   "outputs": [],
   "source": []
  },
  {
   "cell_type": "code",
   "execution_count": null,
   "metadata": {},
   "outputs": [],
   "source": [
    "\n"
   ]
  },
  {
   "cell_type": "code",
   "execution_count": 331,
   "metadata": {},
   "outputs": [
    {
     "data": {
      "text/plain": [
       "((13, 5), (13,))"
      ]
     },
     "execution_count": 331,
     "metadata": {},
     "output_type": "execute_result"
    }
   ],
   "source": [
    "VT[:,rs[j] ].T.shape, A[j,rs[j] ].shape"
   ]
  },
  {
   "cell_type": "code",
   "execution_count": 336,
   "metadata": {},
   "outputs": [
    {
     "data": {
      "text/plain": [
       "array([[-2.57221922+4.62866768j, -2.57221922-4.62866768j,\n",
       "         0.03310517+0.j        ,  5.11133327-0.j        ]])"
      ]
     },
     "execution_count": 336,
     "metadata": {},
     "output_type": "execute_result"
    }
   ],
   "source": [
    "roots"
   ]
  },
  {
   "cell_type": "code",
   "execution_count": 325,
   "metadata": {},
   "outputs": [
    {
     "data": {
      "text/plain": [
       "array([[ 3.61873552, -4.2250083 ,  1.67603635, -2.09636641,  1.36163502,\n",
       "        -2.90242325,  5.60008416, -2.30850662, -0.30143064,  0.94799001,\n",
       "         4.42294381, -3.5149767 , -0.06820176],\n",
       "       [-3.58084379,  8.00697116, -4.62531388,  0.13498541,  0.18810469,\n",
       "        -2.68241849, -4.12322505,  0.99270166, -1.62849277,  8.82672435,\n",
       "         3.92107686, -7.39747034, -5.33325479],\n",
       "       [-6.76239121, -3.7411459 , -3.20358824,  5.10048264,  3.41405005,\n",
       "         2.02339783,  0.42734207, -1.21243554, -3.79816118, -3.1684366 ,\n",
       "        -3.62372062,  4.98154386,  2.21386265],\n",
       "       [ 1.51397922, -0.41544923,  1.50738602,  0.81591474, -2.46015236,\n",
       "         4.25495196, -1.46977011, -0.20734447,  2.91038442, -5.05223083,\n",
       "         6.49780037, -4.29699537,  1.3514528 ],\n",
       "       [ 3.85784854,  0.87017395,  5.22996924,  2.58863577,  4.35124382,\n",
       "         4.19708706,  0.42594706,  6.69710929, -4.50458329, -1.68778718,\n",
       "        -3.74709058,  0.21145962,  8.1548762 ]])"
      ]
     },
     "execution_count": 325,
     "metadata": {},
     "output_type": "execute_result"
    }
   ],
   "source": [
    "u <- u + du\n",
    "v <- v + dv"
   ]
  },
  {
   "cell_type": "code",
   "execution_count": 327,
   "metadata": {},
   "outputs": [
    {
     "data": {
      "text/plain": [
       "array([ 1.73002568,  2.93403814, -1.22158489, -0.47756704,  1.02500161,\n",
       "       -1.56460858, -0.74759423,  0.94723392, -1.75898488,  3.20634946,\n",
       "       -1.35936217,  0.60478711, -1.13212647])"
      ]
     },
     "execution_count": 327,
     "metadata": {},
     "output_type": "execute_result"
    }
   ],
   "source": []
  },
  {
   "cell_type": "code",
   "execution_count": 206,
   "metadata": {},
   "outputs": [
    {
     "name": "stdout",
     "output_type": "stream",
     "text": [
      "2\n"
     ]
    },
    {
     "data": {
      "text/plain": [
       "0"
      ]
     },
     "execution_count": 206,
     "metadata": {},
     "output_type": "execute_result"
    }
   ],
   "source": [
    "solidx =  np.argmin(np.abs(np.imag(roots)))\n",
    "print(solidx)\n",
    "solidx  "
   ]
  },
  {
   "cell_type": "code",
   "execution_count": 290,
   "metadata": {},
   "outputs": [
    {
     "data": {
      "text/plain": [
       "array([-0.02078833+0.j,  3.7781964 -0.j])"
      ]
     },
     "execution_count": 290,
     "metadata": {},
     "output_type": "execute_result"
    }
   ],
   "source": [
    "rootssubsetion"
   ]
  },
  {
   "cell_type": "code",
   "execution_count": null,
   "metadata": {},
   "outputs": [],
   "source": []
  }
 ],
 "metadata": {
  "kernelspec": {
   "display_name": "Python 3",
   "language": "python",
   "name": "python3"
  },
  "language_info": {
   "codemirror_mode": {
    "name": "ipython",
    "version": 3
   },
   "file_extension": ".py",
   "mimetype": "text/x-python",
   "name": "python",
   "nbconvert_exporter": "python",
   "pygments_lexer": "ipython3",
   "version": "3.8.8"
  }
 },
 "nbformat": 4,
 "nbformat_minor": 4
}
