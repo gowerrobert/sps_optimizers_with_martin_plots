{
 "cells": [
  {
   "cell_type": "code",
   "execution_count": 1,
   "metadata": {},
   "outputs": [],
   "source": [
    "import numpy as np\n",
    "import matplotlib.pyplot as plt\n",
    "from fqs import *\n",
    "import copy\n",
    "import os\n",
    "import pickle"
   ]
  },
  {
   "cell_type": "code",
   "execution_count": 4,
   "metadata": {},
   "outputs": [],
   "source": [
    "from tqdm.notebook import tqdm\n",
    "from itertools import product"
   ]
  },
  {
   "cell_type": "code",
   "execution_count": 138,
   "metadata": {},
   "outputs": [
    {
     "name": "stdout",
     "output_type": "stream",
     "text": [
      "0 0.1\n"
     ]
    },
    {
     "data": {
      "application/vnd.jupyter.widget-view+json": {
       "model_id": "c00dd697832848b492ddddcb03a24da7",
       "version_major": 2,
       "version_minor": 0
      },
      "text/plain": [
       "  0%|          | 0/100 [00:00<?, ?it/s]"
      ]
     },
     "metadata": {},
     "output_type": "display_data"
    },
    {
     "name": "stdout",
     "output_type": "stream",
     "text": [
      "0 0.2\n"
     ]
    },
    {
     "data": {
      "application/vnd.jupyter.widget-view+json": {
       "model_id": "900f84884d7944b89df631338540e73c",
       "version_major": 2,
       "version_minor": 0
      },
      "text/plain": [
       "  0%|          | 0/100 [00:00<?, ?it/s]"
      ]
     },
     "metadata": {},
     "output_type": "display_data"
    },
    {
     "name": "stdout",
     "output_type": "stream",
     "text": [
      "0 0.3\n"
     ]
    },
    {
     "data": {
      "application/vnd.jupyter.widget-view+json": {
       "model_id": "48a3229da12741d5931485607e7fc080",
       "version_major": 2,
       "version_minor": 0
      },
      "text/plain": [
       "  0%|          | 0/100 [00:00<?, ?it/s]"
      ]
     },
     "metadata": {},
     "output_type": "display_data"
    },
    {
     "name": "stdout",
     "output_type": "stream",
     "text": [
      "1 0.1\n"
     ]
    },
    {
     "data": {
      "application/vnd.jupyter.widget-view+json": {
       "model_id": "1e69f86f24f545c7a11761fffbfb2cf7",
       "version_major": 2,
       "version_minor": 0
      },
      "text/plain": [
       "  0%|          | 0/100 [00:00<?, ?it/s]"
      ]
     },
     "metadata": {},
     "output_type": "display_data"
    },
    {
     "name": "stdout",
     "output_type": "stream",
     "text": [
      "1 0.2\n"
     ]
    },
    {
     "data": {
      "application/vnd.jupyter.widget-view+json": {
       "model_id": "8acfb93b0f2940d08fd99eef9b07fc83",
       "version_major": 2,
       "version_minor": 0
      },
      "text/plain": [
       "  0%|          | 0/100 [00:00<?, ?it/s]"
      ]
     },
     "metadata": {},
     "output_type": "display_data"
    },
    {
     "name": "stdout",
     "output_type": "stream",
     "text": [
      "1 0.3\n"
     ]
    },
    {
     "data": {
      "application/vnd.jupyter.widget-view+json": {
       "model_id": "2ed84e2e51dd434b8006aa5852333c02",
       "version_major": 2,
       "version_minor": 0
      },
      "text/plain": [
       "  0%|          | 0/100 [00:00<?, ?it/s]"
      ]
     },
     "metadata": {},
     "output_type": "display_data"
    },
    {
     "name": "stdout",
     "output_type": "stream",
     "text": [
      "2 0.1\n"
     ]
    },
    {
     "data": {
      "application/vnd.jupyter.widget-view+json": {
       "model_id": "52a49843e8b84f5a875e5956a4048fd5",
       "version_major": 2,
       "version_minor": 0
      },
      "text/plain": [
       "  0%|          | 0/100 [00:00<?, ?it/s]"
      ]
     },
     "metadata": {},
     "output_type": "display_data"
    },
    {
     "name": "stdout",
     "output_type": "stream",
     "text": [
      "2 0.2\n"
     ]
    },
    {
     "data": {
      "application/vnd.jupyter.widget-view+json": {
       "model_id": "d9e89386e255446380e31171df6a34ba",
       "version_major": 2,
       "version_minor": 0
      },
      "text/plain": [
       "  0%|          | 0/100 [00:00<?, ?it/s]"
      ]
     },
     "metadata": {},
     "output_type": "display_data"
    },
    {
     "name": "stdout",
     "output_type": "stream",
     "text": [
      "2 0.3\n"
     ]
    },
    {
     "data": {
      "application/vnd.jupyter.widget-view+json": {
       "model_id": "663146ca7537456cbbf10282aff39a52",
       "version_major": 2,
       "version_minor": 0
      },
      "text/plain": [
       "  0%|          | 0/100 [00:00<?, ?it/s]"
      ]
     },
     "metadata": {},
     "output_type": "display_data"
    },
    {
     "name": "stdout",
     "output_type": "stream",
     "text": [
      "3 0.1\n"
     ]
    },
    {
     "data": {
      "application/vnd.jupyter.widget-view+json": {
       "model_id": "37a7be3ee55c43e683c6bc379a58af63",
       "version_major": 2,
       "version_minor": 0
      },
      "text/plain": [
       "  0%|          | 0/100 [00:00<?, ?it/s]"
      ]
     },
     "metadata": {},
     "output_type": "display_data"
    },
    {
     "name": "stdout",
     "output_type": "stream",
     "text": [
      "3 0.2\n"
     ]
    },
    {
     "data": {
      "application/vnd.jupyter.widget-view+json": {
       "model_id": "c23fb707cd414e1d91c324f4c475c648",
       "version_major": 2,
       "version_minor": 0
      },
      "text/plain": [
       "  0%|          | 0/100 [00:00<?, ?it/s]"
      ]
     },
     "metadata": {},
     "output_type": "display_data"
    },
    {
     "name": "stdout",
     "output_type": "stream",
     "text": [
      "3 0.3\n"
     ]
    },
    {
     "data": {
      "application/vnd.jupyter.widget-view+json": {
       "model_id": "2c4314026c03419099decb0b098f62ae",
       "version_major": 2,
       "version_minor": 0
      },
      "text/plain": [
       "  0%|          | 0/100 [00:00<?, ?it/s]"
      ]
     },
     "metadata": {},
     "output_type": "display_data"
    },
    {
     "name": "stdout",
     "output_type": "stream",
     "text": [
      "4 0.1\n"
     ]
    },
    {
     "data": {
      "application/vnd.jupyter.widget-view+json": {
       "model_id": "5a8aaf18f0bd4d119a522ecb17dc1fec",
       "version_major": 2,
       "version_minor": 0
      },
      "text/plain": [
       "  0%|          | 0/100 [00:00<?, ?it/s]"
      ]
     },
     "metadata": {},
     "output_type": "display_data"
    },
    {
     "name": "stdout",
     "output_type": "stream",
     "text": [
      "4 0.2\n"
     ]
    },
    {
     "data": {
      "application/vnd.jupyter.widget-view+json": {
       "model_id": "256dbbe505d94f789a0a8c19d75bb30a",
       "version_major": 2,
       "version_minor": 0
      },
      "text/plain": [
       "  0%|          | 0/100 [00:00<?, ?it/s]"
      ]
     },
     "metadata": {},
     "output_type": "display_data"
    },
    {
     "name": "stdout",
     "output_type": "stream",
     "text": [
      "4 0.3\n"
     ]
    },
    {
     "data": {
      "application/vnd.jupyter.widget-view+json": {
       "model_id": "2a0e0100226d49ecb4e7d219ea475d9a",
       "version_major": 2,
       "version_minor": 0
      },
      "text/plain": [
       "  0%|          | 0/100 [00:00<?, ?it/s]"
      ]
     },
     "metadata": {},
     "output_type": "display_data"
    },
    {
     "data": {
      "image/png": "[encoded data removed]",
      "text/plain": [
       "<Figure size 432x288 with 1 Axes>"
      ]
     },
     "metadata": {
      "needs_background": "light"
     },
     "output_type": "display_data"
    }
   ],
   "source": [
    "m = 100\n",
    "n = 50\n",
    "k = 2\n",
    "# p = 0.2;  \n",
    "# p = 0.1; etas = [2**-18]\n",
    "# p = 0.05; etas = [2**-19]\n",
    "# p = 0.3; etas = [2**-16,2**-17]\n",
    "# for SEED in range(10):\n",
    "for SEED, p in product(range(5),[0.1,0.2, 0.3]):\n",
    "# for SEED, p in product(range(1),[0.05]):\n",
    "    \n",
    "    print(SEED, p)\n",
    "    np.random.seed(SEED)\n",
    "    Us = np.random.randn(m,k)\n",
    "    VTs = np.random.randn(k,n)\n",
    "\n",
    "    A = Us @ VTs\n",
    "    np.random.seed(SEED+1)\n",
    "    OmegaOrig = []\n",
    "    for i in range(n):\n",
    "        for j in range(m):\n",
    "            if np.random.rand(1)<p:\n",
    "                OmegaOrig.append([j,i])\n",
    "    np.random.shuffle(OmegaOrig)\n",
    "    len(OmegaOrig), m*n\n",
    "\n",
    "\n",
    "    prefix = \"./logs/matrix_completition_%d_%d_%d_%f_SEED_%d_\"%(m,n,k,p, SEED)\n",
    "\n",
    "    \n",
    "    logfile = \"%s_SPS_v5_Approach.pkl\"%(prefix)\n",
    "\n",
    "#     if os.path.exists(logfile):\n",
    "#         continue\n",
    "    \n",
    "\n",
    "    np.random.seed(SEED)\n",
    "    Omega = copy.deepcopy(OmegaOrig)\n",
    "\n",
    "\n",
    "    M = A*0\n",
    "    for (i,j) in Omega:\n",
    "        M[i,j] = A[i,j]\n",
    "\n",
    "    Minit = n*m/(len(Omega)+0.0)*M    \n",
    "    u, s, vh = np.linalg.svd(Minit,full_matrices=False)\n",
    "\n",
    "    s = s[:k]\n",
    "    u = u[:,:k] \n",
    "    vh = vh[:k,:] \n",
    "\n",
    "    u = u * np.sqrt(s)\n",
    "    vh = vh*np.sqrt(s).reshape([-1,1])\n",
    "\n",
    "\n",
    "    Uinit = u\n",
    "    VTinit = vh\n",
    "\n",
    "\n",
    "    u, s, vh = np.linalg.svd(Minit,full_matrices=False)\n",
    "\n",
    "    s = s[:k+1]\n",
    "    u = u[:,:k+1] \n",
    "    vh = vh[:k+1,:] \n",
    "\n",
    "    u = u * np.sqrt(s)\n",
    "    vh = vh*np.sqrt(s).reshape([-1,1])\n",
    "\n",
    "\n",
    "    UinitPlusOne = u\n",
    "    VTinitPlusOne = vh\n",
    "    \n",
    "    \n",
    "    fval = []\n",
    "\n",
    "    U = copy.deepcopy(Uinit)\n",
    "    VT = copy.deepcopy(VTinit) \n",
    "\n",
    "\n",
    "\n",
    "    np.random.seed(SEED)\n",
    "\n",
    "    rs = [[] for j in range(m)]\n",
    "    cs = [[] for i in range(n)]\n",
    "\n",
    "    for j, i in OmegaOrig:\n",
    "        rs[j].append(i)\n",
    "        cs[i].append(j)\n",
    "     \n",
    "\n",
    "    np.random.seed(SEED)\n",
    "\n",
    "    Mp = U@VT  \n",
    "    fval.append(np.linalg.norm(Mp - A))\n",
    "\n",
    "\n",
    "\n",
    "    for ep in tqdm(range(100)):\n",
    "\n",
    "\n",
    "        for it in range(1000):\n",
    "\n",
    "            j = np.random.randint(m)\n",
    "            i = np.random.randint(n)        \n",
    "\n",
    "            u = U[j,:]\n",
    "            v = VT[:,i]\n",
    "            uv = u.dot(v)\n",
    "            a = A[j,i]\n",
    "\n",
    "            r = a - uv\n",
    "            if np.abs(r) < 1e-18:\n",
    "#                 adadsasd\n",
    "                continue\n",
    "                 \n",
    "            if np.linalg.norm(u-v) < 1e-10 and uv >= 4*a:\n",
    "                vn = 0.5*v + 0.5*v / np.linalg.norm(v)* np.sqrt(v.dot(v)-4*a)\n",
    "                un = -0.5*u + 0.5*u / np.linalg.norm(u)* np.sqrt(u.dot(u)-4*a)\n",
    "                U[j,:] =    vn\n",
    "                VT[:,i]=    un\n",
    "                \n",
    "                asfsafa\n",
    "            else:\n",
    "                \n",
    "                \n",
    "                \n",
    "                p = [  \n",
    "                     -a       ,    #  g-4  \n",
    "                      0        ,  # g3     \n",
    "                     uv  + 2*a  ,        # g2         \n",
    "                    -u.dot(u) - v.dot(v),            # g1              \n",
    "                     uv - a      ,     # g0 \n",
    "                ]\n",
    "                \n",
    "                \n",
    "#                 p = [-r-uv, 0, 3*uv+2*r, -u.dot(u)-v.dot(v), -r]\n",
    "\n",
    "                roots = quartic_roots(p)\n",
    "#                 solidx =  np.argmin(np.abs(np.imag(roots)))\n",
    "#                 lmbd = np.real(roots[0][solidx])\n",
    "            \n",
    "            \n",
    "                rootssubsetion = roots[np.abs(np.imag(roots)) < 1e-8]\n",
    "\n",
    "#                 solidx = np.argmax(np.abs(rootssubsetion))\n",
    "#                 lmbd = np.real(rootssubsetion[solidx])\n",
    "\n",
    "# #                 asfsafsafa\n",
    "                \n",
    "#                 nu = 1/(1-lmbd**2) * (u -lmbd* v)\n",
    "#                 nv = 1/(1-lmbd**2) * (v -lmbd* u)\n",
    "#                 print(\"----\",lmbd)\n",
    "#                 print(nu.dot(nv),a, np.linalg.norm(u-nu),np.linalg.norm(v-nv) )\n",
    "                       \n",
    "\n",
    "                solidx = np.argmin(np.abs(rootssubsetion))\n",
    "                lmbd = np.real(rootssubsetion[solidx])\n",
    "\n",
    "                if np.abs(np.array([lmbd**j for j in range(4,-1,-1)]).dot(p)) > 1e-10:\n",
    "                    #let's do bisection\n",
    "#                     print(\"dddd\",np.abs(np.array([lmbd**j for j in range(4,-1,-1)]).dot(p)))\n",
    "                    \n",
    "                    \n",
    "                    left =  lmbd*0.99\n",
    "                    rightV =  lmbd*1.01\n",
    "                    \n",
    "                    lv =  (np.array([left**j for j in range(4,-1,-1)]).dot(p))\n",
    "                    rv =  (np.array([rightV**j for j in range(4,-1,-1)]).dot(p))\n",
    "                    \n",
    "                    if lv*rv > 0:\n",
    "                        left =  0.5*(lmbd-1)\n",
    "                        rightV =  0.5*(1+lmbd)                    \n",
    "                        lv =  (np.array([left**j for j in range(4,-1,-1)]).dot(p))\n",
    "                        rv =  (np.array([rightV**j for j in range(4,-1,-1)]).dot(p))\n",
    "                        if lv*rv > 0:\n",
    "                            asasfsafaISSUE\n",
    "\n",
    "                    \n",
    "                    mv = 100\n",
    "                    while np.abs(mv) > 1e-14:\n",
    "                    \n",
    "                        midPoint = 0.5*(left+rightV)\n",
    "                        mv =  (np.array([midPoint**j for j in range(4,-1,-1)]).dot(p))\n",
    "#                         print(\"-----\")\n",
    "#                         print(left,midPoint,rightV)\n",
    "#                         print(lv,mv,rv)\n",
    "                        if mv*rv > 0:\n",
    "                            rightV = midPoint\n",
    "                            rv = mv\n",
    "                        else:\n",
    "                            left = midPoint\n",
    "                            lv = mv\n",
    "                    lmbd = midPoint\n",
    "                        \n",
    "                         \n",
    "    \n",
    "                nu = 1/(1-lmbd**2) * (u -lmbd* v)\n",
    "                nv = 1/(1-lmbd**2) * (v -lmbd* u)\n",
    "\n",
    "            \n",
    "  \n",
    "                U[j,:] =    nu\n",
    "                VT[:,i]=    nv\n",
    "       \n",
    "        Mp = U@VT\n",
    "        fval.append(np.linalg.norm(Mp - A))\n",
    "\n",
    "    pickle.dump([fval,U,VT] ,  open(logfile,\"wb\"))\n",
    "    plt.semilogy(fval)\n"
   ]
  },
  {
   "cell_type": "code",
   "execution_count": 119,
   "metadata": {},
   "outputs": [
    {
     "data": {
      "text/plain": [
       "(-4.664336206161579e-08, 1.2869381590049898, -1.2889642128730239)"
      ]
     },
     "execution_count": 119,
     "metadata": {},
     "output_type": "execute_result"
    }
   ],
   "source": [
    "\n",
    "left =  0.5*(lmbd-1)\n",
    "rightV =  0.5*(1+lmbd)\n",
    "\n",
    "lv =  (np.array([left**j for j in range(4,-1,-1)]).dot(p))\n",
    "rv =  (np.array([rightV**j for j in range(4,-1,-1)]).dot(p))\n",
    "lmbd,lv, rv"
   ]
  },
  {
   "cell_type": "code",
   "execution_count": 136,
   "metadata": {},
   "outputs": [
    {
     "data": {
      "text/plain": [
       "(1.7763568394002505e-15,\n",
       " -1.7763568394002505e-15,\n",
       " 0.22129529181101637,\n",
       " 0.2212952918110164)"
      ]
     },
     "execution_count": 136,
     "metadata": {},
     "output_type": "execute_result"
    }
   ],
   "source": [
    "lv,rv, left, rightV"
   ]
  },
  {
   "cell_type": "code",
   "execution_count": 133,
   "metadata": {},
   "outputs": [
    {
     "data": {
      "text/plain": [
       "0.22129529181101637"
      ]
     },
     "execution_count": 133,
     "metadata": {},
     "output_type": "execute_result"
    }
   ],
   "source": [
    "midPoint"
   ]
  },
  {
   "cell_type": "code",
   "execution_count": 104,
   "metadata": {},
   "outputs": [
    {
     "data": {
      "text/plain": [
       "-9.64754536031743"
      ]
     },
     "execution_count": 104,
     "metadata": {},
     "output_type": "execute_result"
    }
   ],
   "source": [
    "lmbd = 1\n",
    "np.array([lmbd**j for j in range(4,-1,-1)]).dot(p) \n"
   ]
  },
  {
   "cell_type": "code",
   "execution_count": 105,
   "metadata": {},
   "outputs": [
    {
     "name": "stdout",
     "output_type": "stream",
     "text": [
      "1.736858872246021 9.64754536031743 9.64754536031743\n"
     ]
    }
   ],
   "source": [
    "rv = np.abs(np.array([1.**j for j in range(4,-1,-1)]).dot(p))\n",
    "                    \n",
    "print(lv,np.abs(np.array([lmbd**j for j in range(4,-1,-1)]).dot(p)),rv)"
   ]
  },
  {
   "cell_type": "code",
   "execution_count": 22,
   "metadata": {},
   "outputs": [
    {
     "data": {
      "text/plain": [
       "array([0.02759507, 2.46692036])"
      ]
     },
     "execution_count": 22,
     "metadata": {},
     "output_type": "execute_result"
    }
   ],
   "source": [
    "np.abs(rootssubsetion)"
   ]
  },
  {
   "cell_type": "code",
   "execution_count": 126,
   "metadata": {},
   "outputs": [
    {
     "data": {
      "text/plain": [
       "[<matplotlib.lines.Line2D at 0x7f95d5881a00>]"
      ]
     },
     "execution_count": 126,
     "metadata": {},
     "output_type": "execute_result"
    },
    {
     "data": {
      "image/png": "[encoded data removed]",
      "text/plain": [
       "<Figure size 432x288 with 1 Axes>"
      ]
     },
     "metadata": {
      "needs_background": "light"
     },
     "output_type": "display_data"
    }
   ],
   "source": [
    "# fvalStable = fval\n",
    "plt.semilogy(fvalStable)"
   ]
  },
  {
   "cell_type": "code",
   "execution_count": null,
   "metadata": {},
   "outputs": [],
   "source": []
  },
  {
   "cell_type": "code",
   "execution_count": null,
   "metadata": {},
   "outputs": [],
   "source": []
  },
  {
   "cell_type": "code",
   "execution_count": null,
   "metadata": {},
   "outputs": [],
   "source": []
  },
  {
   "cell_type": "code",
   "execution_count": null,
   "metadata": {},
   "outputs": [],
   "source": []
  },
  {
   "cell_type": "code",
   "execution_count": null,
   "metadata": {},
   "outputs": [],
   "source": []
  },
  {
   "cell_type": "code",
   "execution_count": null,
   "metadata": {},
   "outputs": [],
   "source": []
  },
  {
   "cell_type": "code",
   "execution_count": null,
   "metadata": {},
   "outputs": [],
   "source": []
  },
  {
   "cell_type": "code",
   "execution_count": 157,
   "metadata": {},
   "outputs": [
    {
     "data": {
      "text/plain": [
       "([80.98257053605623,\n",
       "  41.17216427052417,\n",
       "  22.940531990682633,\n",
       "  9.672888089388064,\n",
       "  3.64677338647809],\n",
       " [80.98257053605623,\n",
       "  43.9740250171089,\n",
       "  21.202707827276008,\n",
       "  8.940143408719749,\n",
       "  3.7016130640772884])"
      ]
     },
     "execution_count": 157,
     "metadata": {},
     "output_type": "execute_result"
    }
   ],
   "source": [
    "fval[0:5],fvalOAMC[0:5]"
   ]
  },
  {
   "cell_type": "code",
   "execution_count": 155,
   "metadata": {},
   "outputs": [
    {
     "data": {
      "image/png": "[encoded data removed]",
      "text/plain": [
       "<Figure size 432x288 with 1 Axes>"
      ]
     },
     "metadata": {
      "needs_background": "light"
     },
     "output_type": "display_data"
    }
   ],
   "source": [
    "plt.semilogy(fval,label=\"SPS\")\n",
    "plt.semilogy(fvalOAMC,label=\"Online MC\")\n",
    "plt.legend()\n",
    "plt.grid(True)"
   ]
  },
  {
   "cell_type": "code",
   "execution_count": null,
   "metadata": {},
   "outputs": [],
   "source": []
  },
  {
   "cell_type": "code",
   "execution_count": null,
   "metadata": {},
   "outputs": [],
   "source": []
  },
  {
   "cell_type": "code",
   "execution_count": null,
   "metadata": {},
   "outputs": [],
   "source": []
  },
  {
   "cell_type": "code",
   "execution_count": null,
   "metadata": {},
   "outputs": [],
   "source": []
  },
  {
   "cell_type": "code",
   "execution_count": 59,
   "metadata": {},
   "outputs": [
    {
     "data": {
      "text/plain": [
       "Text(0, 0.5, 'MSE')"
      ]
     },
     "execution_count": 59,
     "metadata": {},
     "output_type": "execute_result"
    },
    {
     "data": {
      "image/png": "[encoded data removed]",
      "text/plain": [
       "<Figure size 432x288 with 1 Axes>"
      ]
     },
     "metadata": {
      "needs_background": "light"
     },
     "output_type": "display_data"
    }
   ],
   "source": [
    "plt.semilogy(fval)\n",
    "plt.xlabel(\"iterations\")\n",
    "plt.ylabel(\"MSE\")\n"
   ]
  },
  {
   "cell_type": "markdown",
   "metadata": {},
   "source": [
    "# ALS"
   ]
  },
  {
   "cell_type": "code",
   "execution_count": 13,
   "metadata": {},
   "outputs": [],
   "source": [
    "\n",
    "\n",
    "# U =  np.random.randn(m,k) *0.01\n",
    "# VT  =   np.random.randn(k,n)*0.01 "
   ]
  },
  {
   "cell_type": "code",
   "execution_count": 17,
   "metadata": {},
   "outputs": [],
   "source": []
  },
  {
   "cell_type": "code",
   "execution_count": 42,
   "metadata": {},
   "outputs": [],
   "source": [
    "rs = [[] for j in range(m)]\n",
    "cs = [[] for i in range(n)]\n",
    "\n",
    "for j, i in OmegaOrig:\n",
    "    rs[j].append(i)\n",
    "    cs[i].append(j)\n",
    "fvalLSA=[]\n",
    "np.random.seed(1)\n",
    "U = Us +np.random.randn(m,k)*0.9\n",
    "VT  = VTs+ np.random.randn(k,n)*0.9\n",
    "\n",
    "\n",
    "R = U@VT - A\n",
    "fvalLSA.append(np.mean([  R[j,i]**2 for j,i in Omega ]))\n",
    "\n",
    "for ep in range(100):\n",
    "    R = U@VT - A\n",
    " \n",
    "    for j in range(m):\n",
    "#         np.random.shuffle(rs[j])\n",
    "        if len(rs[j])>0:\n",
    "            u = np.linalg.pinv(VT[:,rs[j] ].T) @ R[j,rs[j] ]\n",
    "            U[j,:] -= u\n",
    "        \n",
    "    R = U@VT - A         \n",
    "    for i in range(n):\n",
    "        if len(cs[i])>0:\n",
    "            v = np.linalg.pinv(U[ cs[i], : ]) @ R[ cs[i],i ]\n",
    "            VT[:,i] -= v\n",
    "\n",
    "            \n",
    "    R = U@VT - A\n",
    "    fvalLSA.append(np.mean([  R[j,i]**2 for j,i in Omega ]))\n",
    "    "
   ]
  },
  {
   "cell_type": "markdown",
   "metadata": {},
   "source": [
    "# ALS - online"
   ]
  },
  {
   "cell_type": "code",
   "execution_count": 87,
   "metadata": {},
   "outputs": [],
   "source": [
    "rs = [[] for j in range(m)]\n",
    "cs = [[] for i in range(n)]\n",
    "\n",
    "eta = .9\n",
    "for j, i in OmegaOrig:\n",
    "    rs[j].append(i)\n",
    "    cs[i].append(j)\n",
    "fvalLSAOnline=[]\n",
    "np.random.seed(1)\n",
    "U = Us +np.random.randn(m,k)*0.9\n",
    "VT  = VTs+ np.random.randn(k,n)*0.9\n",
    "\n",
    "\n",
    "R = U@VT - A\n",
    "fvalLSAOnline.append(np.mean([  R[j,i]**2 for j,i in Omega ]))\n",
    "\n",
    "for ep in range(100):\n",
    "    np.random.shuffle(Omega)\n",
    "    for j,i in Omega:\n",
    "        R = U@VT - A\n",
    "        if np.random.rand(1)<0.5:\n",
    "            c = i\n",
    "            u = np.linalg.pinv(VT[:,c:c+1 ].T) @ R[j,c:c+1 ]\n",
    "            U[j,:] -= eta*u\n",
    "        else:\n",
    "            r=j\n",
    "            v = np.linalg.pinv(U[ r:r+1, : ]) @ R[ r:r+1,i ]\n",
    "            VT[:,i] -= eta*v\n",
    "\n",
    "            \n",
    "    R = U@VT - A\n",
    "    fvalLSAOnline.append(np.mean([  R[j,i]**2 for j,i in Omega ]))\n",
    "    "
   ]
  },
  {
   "cell_type": "code",
   "execution_count": 88,
   "metadata": {},
   "outputs": [
    {
     "data": {
      "text/plain": [
       "<matplotlib.legend.Legend at 0x7fa224474970>"
      ]
     },
     "execution_count": 88,
     "metadata": {},
     "output_type": "execute_result"
    },
    {
     "data": {
      "image/png": "[encoded data removed]",
      "text/plain": [
       "<Figure size 432x288 with 1 Axes>"
      ]
     },
     "metadata": {
      "needs_background": "light"
     },
     "output_type": "display_data"
    }
   ],
   "source": [
    "plt.semilogy(fval,label=\"SPS\")\n",
    "plt.semilogy(fvalLSA,label=\"ALS - batched\")\n",
    "plt.semilogy(fvalLSAOnline,label=\"ALS - online\")\n",
    "plt.legend()\n"
   ]
  },
  {
   "cell_type": "code",
   "execution_count": null,
   "metadata": {},
   "outputs": [],
   "source": []
  },
  {
   "cell_type": "code",
   "execution_count": null,
   "metadata": {},
   "outputs": [],
   "source": [
    "\n"
   ]
  },
  {
   "cell_type": "code",
   "execution_count": 331,
   "metadata": {},
   "outputs": [
    {
     "data": {
      "text/plain": [
       "((13, 5), (13,))"
      ]
     },
     "execution_count": 331,
     "metadata": {},
     "output_type": "execute_result"
    }
   ],
   "source": [
    "VT[:,rs[j] ].T.shape, A[j,rs[j] ].shape"
   ]
  },
  {
   "cell_type": "code",
   "execution_count": 336,
   "metadata": {},
   "outputs": [
    {
     "data": {
      "text/plain": [
       "array([[-2.57221922+4.62866768j, -2.57221922-4.62866768j,\n",
       "         0.03310517+0.j        ,  5.11133327-0.j        ]])"
      ]
     },
     "execution_count": 336,
     "metadata": {},
     "output_type": "execute_result"
    }
   ],
   "source": [
    "roots"
   ]
  },
  {
   "cell_type": "code",
   "execution_count": 325,
   "metadata": {},
   "outputs": [
    {
     "data": {
      "text/plain": [
       "array([[ 3.61873552, -4.2250083 ,  1.67603635, -2.09636641,  1.36163502,\n",
       "        -2.90242325,  5.60008416, -2.30850662, -0.30143064,  0.94799001,\n",
       "         4.42294381, -3.5149767 , -0.06820176],\n",
       "       [-3.58084379,  8.00697116, -4.62531388,  0.13498541,  0.18810469,\n",
       "        -2.68241849, -4.12322505,  0.99270166, -1.62849277,  8.82672435,\n",
       "         3.92107686, -7.39747034, -5.33325479],\n",
       "       [-6.76239121, -3.7411459 , -3.20358824,  5.10048264,  3.41405005,\n",
       "         2.02339783,  0.42734207, -1.21243554, -3.79816118, -3.1684366 ,\n",
       "        -3.62372062,  4.98154386,  2.21386265],\n",
       "       [ 1.51397922, -0.41544923,  1.50738602,  0.81591474, -2.46015236,\n",
       "         4.25495196, -1.46977011, -0.20734447,  2.91038442, -5.05223083,\n",
       "         6.49780037, -4.29699537,  1.3514528 ],\n",
       "       [ 3.85784854,  0.87017395,  5.22996924,  2.58863577,  4.35124382,\n",
       "         4.19708706,  0.42594706,  6.69710929, -4.50458329, -1.68778718,\n",
       "        -3.74709058,  0.21145962,  8.1548762 ]])"
      ]
     },
     "execution_count": 325,
     "metadata": {},
     "output_type": "execute_result"
    }
   ],
   "source": [
    "u <- u + du\n",
    "v <- v + dv"
   ]
  },
  {
   "cell_type": "code",
   "execution_count": 327,
   "metadata": {},
   "outputs": [
    {
     "data": {
      "text/plain": [
       "array([ 1.73002568,  2.93403814, -1.22158489, -0.47756704,  1.02500161,\n",
       "       -1.56460858, -0.74759423,  0.94723392, -1.75898488,  3.20634946,\n",
       "       -1.35936217,  0.60478711, -1.13212647])"
      ]
     },
     "execution_count": 327,
     "metadata": {},
     "output_type": "execute_result"
    }
   ],
   "source": []
  },
  {
   "cell_type": "code",
   "execution_count": 206,
   "metadata": {},
   "outputs": [
    {
     "name": "stdout",
     "output_type": "stream",
     "text": [
      "2\n"
     ]
    },
    {
     "data": {
      "text/plain": [
       "0"
      ]
     },
     "execution_count": 206,
     "metadata": {},
     "output_type": "execute_result"
    }
   ],
   "source": [
    "solidx =  np.argmin(np.abs(np.imag(roots)))\n",
    "print(solidx)\n",
    "solidx  "
   ]
  },
  {
   "cell_type": "code",
   "execution_count": 290,
   "metadata": {},
   "outputs": [
    {
     "data": {
      "text/plain": [
       "array([-0.02078833+0.j,  3.7781964 -0.j])"
      ]
     },
     "execution_count": 290,
     "metadata": {},
     "output_type": "execute_result"
    }
   ],
   "source": [
    "rootssubsetion"
   ]
  },
  {
   "cell_type": "code",
   "execution_count": null,
   "metadata": {},
   "outputs": [],
   "source": []
  }
 ],
 "metadata": {
  "kernelspec": {
   "display_name": "Python 3",
   "language": "python",
   "name": "python3"
  },
  "language_info": {
   "codemirror_mode": {
    "name": "ipython",
    "version": 3
   },
   "file_extension": ".py",
   "mimetype": "text/x-python",
   "name": "python",
   "nbconvert_exporter": "python",
   "pygments_lexer": "ipython3",
   "version": "3.8.8"
  }
 },
 "nbformat": 4,
 "nbformat_minor": 4
}
